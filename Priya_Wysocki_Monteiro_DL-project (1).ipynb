{
 "cells": [
  {
   "cell_type": "markdown",
   "metadata": {
    "id": "0QoPibOyrrhX"
   },
   "source": [
    "# Project 1: Real / Fake image detection"
   ]
  },
  {
   "cell_type": "markdown",
   "metadata": {
    "id": "nZv-zWJgsqYz"
   },
   "source": [
    "Students: Shalini Priya, Tom Wysocki, Stéphanie Monteiro <br/>\n",
    "Task: Image classifcation <br/>\n",
    "Model: Feedforward neural network applied to the (vectorized) images <br/>\n",
    "Dataset: https://www.kaggle.com/ciplab/real-and-fake-face-detection <br/>\n",
    "\n",
    "We have implemented two methods , one using Pytorch library and the other one using Tensor flow"
   ]
  },
  {
   "cell_type": "markdown",
   "metadata": {
    "id": "6jzvyukB3SG1"
   },
   "source": [
    "# Pytorch Version"
   ]
  },
  {
   "cell_type": "markdown",
   "metadata": {
    "id": "IL9CBqqiroIG"
   },
   "source": [
    "## Libraries"
   ]
  },
  {
   "cell_type": "code",
   "execution_count": 21,
   "metadata": {
    "id": "C1pT5vDNkTtB"
   },
   "outputs": [],
   "source": [
    "import os\n",
    "import random\n",
    "import shutil\n",
    "import fnmatch\n",
    "import numpy as np\n",
    "import torch \n",
    "import torchvision\n",
    "import torch.nn as nn\n",
    "import matplotlib.pyplot as plt\n",
    "from skimage import io, transform\n",
    "from torch.utils.data import Dataset, DataLoader, random_split, Subset\n",
    "import string"
   ]
  },
  {
   "cell_type": "markdown",
   "metadata": {
    "id": "9SD7ifo5s31o"
   },
   "source": [
    "## 1. Check and preprocess data"
   ]
  },
  {
   "cell_type": "code",
   "execution_count": 22,
   "metadata": {
    "colab": {
     "base_uri": "https://localhost:8080/"
    },
    "id": "tDkyuK11k8v4",
    "outputId": "e6101595-5d9d-41cf-d66c-cf81cb62157f"
   },
   "outputs": [
    {
     "name": "stdout",
     "output_type": "stream",
     "text": [
      "960\n",
      "1081\n"
     ]
    }
   ],
   "source": [
    "fake_files = os.listdir('real_and_fake_face_detection/real_and_fake_face/training_fake/')\n",
    "real_files = os.listdir('real_and_fake_face_detection/real_and_fake_face/training_real/')\n",
    "print(len(fake_files))\n",
    "print(len(real_files))"
   ]
  },
  {
   "cell_type": "code",
   "execution_count": 24,
   "metadata": {
    "colab": {
     "base_uri": "https://localhost:8080/"
    },
    "id": "aZ780rmdlHMs",
    "outputId": "2de3b533-eb17-4879-98a0-61ee1bb643cf"
   },
   "outputs": [
    {
     "name": "stdout",
     "output_type": "stream",
     "text": [
      "----------\n",
      "\n",
      "fake\n",
      "Total images  : 960\n",
      "Training : 672\n",
      "Testing : 192\n",
      "Validation : 96\n",
      "----------\n",
      "\n",
      "real\n",
      "Total images  : 1081\n",
      "Training : 756\n",
      "Testing : 216\n",
      "Validation : 109\n",
      "----------\n",
      "\n",
      "all\n",
      "Total images : 2041\n",
      "Training : 1428\n",
      "Testing : 408\n",
      "Validation : 205\n"
     ]
    }
   ],
   "source": [
    "root_dir = 'real_and_fake_face_detection/real_and_fake_face/'\n",
    "new_root = 'all/'\n",
    "classes = ['training_fake', 'training_real']\n",
    "\n",
    "# Create train / test / val folders\n",
    "for cls in classes:\n",
    "    if os.path.exists(root_dir + new_root+ 'train/' + cls.split(\"_\")[1]) == False:\n",
    "        os.makedirs(root_dir + new_root+ 'train/' + cls.split(\"_\")[1])\n",
    "    if os.path.exists(root_dir +new_root + 'test/' + cls.split(\"_\")[1]) == False:\n",
    "        os.makedirs(root_dir +new_root + 'test/' + cls.split(\"_\")[1])\n",
    "    if os.path.exists(root_dir +new_root +'val/' + cls.split(\"_\")[1]) == False:\n",
    "        os.makedirs(root_dir +new_root +'val/' + cls.split(\"_\")[1])\n",
    "    \n",
    "# Create partition of the data after shuffling\n",
    "for cls in classes:\n",
    "    src = root_dir + cls # Folder to copy images from\n",
    "\n",
    "    allFileNames = os.listdir(src)\n",
    "    np.random.shuffle(allFileNames)\n",
    "\n",
    "    # 0.70 = training ratio , 0.20 = test ratio, 0.10 = validation ratio\n",
    "    train_FileNames, test_FileNames, val_FileNames = np.split(np.array(allFileNames),[int(len(allFileNames)*0.70),int(len(allFileNames)*0.90)])\n",
    "\n",
    "    # Convert file names from array to list\n",
    "\n",
    "    train_FileNames = [src+'/'+ name for name in train_FileNames]\n",
    "    val_FileNames = [src+'/' + name for name in val_FileNames]\n",
    "    test_FileNames = [src+'/' + name for name in test_FileNames]\n",
    "\n",
    "    print(\"----------\\n\")\n",
    "    print(cls.split(\"_\")[1])\n",
    "    print('Total images  : '+str(len(allFileNames)))\n",
    "    print('Training : '+str(len(train_FileNames)))\n",
    "    print('Testing : '+str(len(test_FileNames)))\n",
    "    print('Validation : '+str(len(val_FileNames)))\n",
    "    \n",
    "    # Copy paste images to target directory\n",
    "\n",
    "    for name in train_FileNames:\n",
    "        shutil.copy(name, root_dir + new_root+'train/'+cls.split(\"_\")[1])\n",
    "    \n",
    "    for name in test_FileNames:\n",
    "        shutil.copy(name,root_dir + new_root+'test/'+cls.split(\"_\")[1] )\n",
    "\n",
    "    for name in val_FileNames:\n",
    "        shutil.copy(name, root_dir +new_root+'val/'+cls.split(\"_\")[1] )\n",
    "\n",
    "print(\"----------\\n\")\n",
    "print(new_root.split(\"/\")[0])\n",
    "print(\"Total images : \"+ str(len([f for path, subdirs, files in os.walk(root_dir + new_root) for f in files])))\n",
    "print(\"Training : \"+ str(len([f for path, subdirs, files in os.walk(root_dir + new_root+'train/') for f in files])))\n",
    "print(\"Testing : \"+ str(len([f for path, subdirs, files in os.walk(root_dir + new_root+'test/') for f in files])))\n",
    "print(\"Validation : \"+ str(len([f for path, subdirs, files in os.walk(root_dir + new_root+'val/') for f in files])))"
   ]
  },
  {
   "cell_type": "markdown",
   "metadata": {
    "id": "xYNtyKFbuWm9"
   },
   "source": [
    "## 2. Write a Dataset class for creating the train and test datasets (and corresponding dataloaders)"
   ]
  },
  {
   "cell_type": "code",
   "execution_count": 36,
   "metadata": {
    "id": "RvVgAV4_keON"
   },
   "outputs": [],
   "source": [
    "class ImageDataset(Dataset):\n",
    "\n",
    "    def __init__(self, image_dir):\n",
    "        \"\"\"Here we initialize the attributes of the object of the class.\"\"\"\n",
    "        self.image_dir = image_dir\n",
    "        self.image_files = sorted(self._find_files(image_dir))\n",
    "        self.image_labels = sorted(self._find_labels(image_dir))\n",
    "\n",
    "    def __len__(self):\n",
    "        \"\"\"Here we return the size of the dataset.\"\"\"\n",
    "        return len(self.image_files)\n",
    "\n",
    "    def __getitem__(self, index):\n",
    "        \"\"\"Here we return a data sample (image, label) for a given index.\"\"\"\n",
    "        # Take as input 'index' and returns the corresponding item as a pytorch tensor\n",
    "        x = io.imread(self.image_files[index])\n",
    "        x = transform.resize(x, (128,128))\n",
    "        x = torch.tensor(x,dtype=float)\n",
    "        y = self.image_labels[index]\n",
    "        return x, y \n",
    "\n",
    "    def _find_files(self, directory, pattern='*.jpg'):\n",
    "        \"\"\"Recursively finds all files matching the pattern.\"\"\"\n",
    "        files = []\n",
    "        for root, dirnames, filenames in os.walk(directory):\n",
    "            for filename in fnmatch.filter(filenames, pattern):\n",
    "                files.append(os.path.join(root, filename))\n",
    "        return files\n",
    "    \n",
    "    def _find_labels(self, directory, pattern='*.jpg'):\n",
    "        classes = [d.name for d in os.scandir(directory) if d.is_dir()]\n",
    "        classes.sort()\n",
    "        class_to_idx = {cls_name: i for i, cls_name in enumerate(classes)}\n",
    "        labels = []\n",
    "        for root, dirnames, filenames in os.walk(directory):\n",
    "            for filename in fnmatch.filter(filenames, pattern):\n",
    "                labels.append(os.path.split(root)[1])\n",
    "        l = list(map(class_to_idx.get, labels))\n",
    "        return l"
   ]
  },
  {
   "cell_type": "code",
   "execution_count": 37,
   "metadata": {
    "id": "upvSG8b1lITU"
   },
   "outputs": [],
   "source": [
    "# Initialize the train / test / val datasets by providing the directories to the image corpus data\n",
    "train_dir = root_dir+'/all/train'\n",
    "test_dir = root_dir+'/all/test'\n",
    "val_dir = root_dir+'/all/val'\n",
    "\n",
    "train_dataset = ImageDataset(image_dir=train_dir)\n",
    "test_dataset = ImageDataset(image_dir=test_dir)\n",
    "val_dataset = ImageDataset(image_dir=val_dir)"
   ]
  },
  {
   "cell_type": "code",
   "execution_count": 38,
   "metadata": {
    "colab": {
     "base_uri": "https://localhost:8080/",
     "height": 319
    },
    "id": "R08Pripuk0vg",
    "outputId": "07d4700c-a9c5-432e-a2cc-9ab21ce21a69"
   },
   "outputs": [
    {
     "name": "stdout",
     "output_type": "stream",
     "text": [
      "1428\n",
      "0\n",
      "torch.Size([128, 128, 3])\n"
     ]
    },
    {
     "data": {
      "image/png": "[encoded data removed]",
      "text/plain": [
       "<Figure size 432x288 with 1 Axes>"
      ]
     },
     "metadata": {
      "needs_background": "light"
     },
     "output_type": "display_data"
    }
   ],
   "source": [
    "# Use the '_find_files' method to get the list of images paths in the train dataset\n",
    "images_list = train_dataset._find_files(train_dir)\n",
    "#for im in images_list:\n",
    "    #print(im)\n",
    "print(len(images_list))\n",
    "\n",
    "# Load the image with index '0' from the train dataset, print its label, its shape and display it\n",
    "image, label = train_dataset.__getitem__(0)\n",
    "print(label)\n",
    "print(image.shape)\n",
    "plt.imshow(image)\n",
    "plt.show()"
   ]
  },
  {
   "cell_type": "code",
   "execution_count": 39,
   "metadata": {
    "id": "06xLzA98lOFf"
   },
   "outputs": [],
   "source": [
    "# Create dataloaders, which sample over the train / test / val datasets with a batch size of 64\n",
    "batch_size = 3\n",
    "train_dataloader = DataLoader(train_dataset, shuffle=True, batch_size=batch_size)\n",
    "test_dataloader = DataLoader(test_dataset, shuffle=True, batch_size=batch_size)\n",
    "valid_dataloader = DataLoader(val_dataset, shuffle=True, batch_size=batch_size)"
   ]
  },
  {
   "cell_type": "markdown",
   "metadata": {
    "id": "x3HwYOnxvAaP"
   },
   "source": [
    "## 3. Define the neural network model"
   ]
  },
  {
   "cell_type": "code",
   "execution_count": 40,
   "metadata": {
    "id": "GpLjBfKbk9Up"
   },
   "outputs": [],
   "source": [
    "# Define an MLP classifier model with two layers and a non-linear activation function\n",
    "class MLPClassif(nn.Module):\n",
    "    def __init__(self, input_size, hidden_size, output_size, act_fn):\n",
    "        super(MLPClassif, self).__init__()\n",
    "        \n",
    "        # define the two linear layers and the activation function\n",
    "        self.layer1 = nn.Linear(input_size, hidden_size)\n",
    "        self.layer2 = nn.Linear(hidden_size, output_size)\n",
    "        self.activation_fn = act_fn\n",
    "    \n",
    "    def forward(self, x):\n",
    "        \n",
    "        # 'forward' method which computes the output y from the input x\n",
    "        # apply: layer1, activation function, layer 2, and activation function again\n",
    "        h = self.layer1(x)\n",
    "        h = self.activation_fn(h)\n",
    "        h = self.layer2(h)\n",
    "        y = self.activation_fn(h)\n",
    "        \n",
    "        return y"
   ]
  },
  {
   "cell_type": "markdown",
   "metadata": {
    "id": "uXhuS2lUvJGi"
   },
   "source": [
    "## 4.1. Define the hyperparameters to create an instance of the model and the parameters required to train neural network (without validation)"
   ]
  },
  {
   "cell_type": "code",
   "execution_count": 47,
   "metadata": {
    "colab": {
     "base_uri": "https://localhost:8080/"
    },
    "id": "saGO2-Hol0bo",
    "outputId": "219e88e8-9549-46de-cf53-0831a540295a"
   },
   "outputs": [
    {
     "name": "stdout",
     "output_type": "stream",
     "text": [
      "Total number of parameters:  4915502\n"
     ]
    }
   ],
   "source": [
    "# Hyperparameters to create an instance of the model\n",
    "input_size = train_dataset[0][0].shape[0]*train_dataset[0][0].shape[1]*train_dataset[0][0].shape[2]\n",
    "hidden_size = 100\n",
    "act_fn = nn.Sigmoid()\n",
    "output_size = len(classes)\n",
    "\n",
    "# Parameters to train the mlp classifier\n",
    "num_epochs = 10\n",
    "learning_rate = 0.001\n",
    "loss_fn = nn.CrossEntropyLoss()\n",
    "if torch.cuda.is_available():\n",
    "    device = 'cuda'\n",
    "else:\n",
    "    device = 'cpu'\n",
    "\n",
    "# Instanciate the model\n",
    "model = MLPClassif(input_size, hidden_size, output_size, act_fn)\n",
    "\n",
    "# Display the total number of parameters in the model\n",
    "print('Total number of parameters: ', sum(p.numel() for p in model.parameters()))"
   ]
  },
  {
   "cell_type": "markdown",
   "metadata": {
    "id": "YrgmaWJywQE7"
   },
   "source": [
    "## 5.1. Write the training loop for training the model (without validation)"
   ]
  },
  {
   "cell_type": "code",
   "execution_count": 44,
   "metadata": {
    "id": "IMYlj0S761oO"
   },
   "outputs": [],
   "source": [
    "# Training function: process batches of data at each epoch\n",
    "def training_mlp_classifier(model, train_dataloader, num_epochs, loss_fn, learning_rate, device='cpu', verbose=True):\n",
    "\n",
    "    # Copy the model to the device and set it in 'training' mode (thus all gradients are computed)\n",
    "    model = model.to(device)\n",
    "    model.train()\n",
    "    \n",
    "    # Define the optimizer\n",
    "    optimizer = torch.optim.Adam(model.parameters(), lr=learning_rate)\n",
    "    \n",
    "    # Initialize a list to record the training loss over epochs\n",
    "    loss_all_epochs = []\n",
    "    \n",
    "    # Training loop\n",
    "    for epoch in range(num_epochs):\n",
    "        # Initialize the training loss for the current epoch\n",
    "        loss_current_epoch = 0\n",
    "        \n",
    "        # Iterate over batches using the dataloader\n",
    "        for batch_index, (images, labels) in enumerate(train_dataloader):\n",
    "            \n",
    "            # Prepare the inputs (vectorize images) and labels \n",
    "            images = images.reshape(images.shape[0], -1)\n",
    "\n",
    "            # Copy the data (images and labels) to the device\n",
    "            images = images.to(device)\n",
    "            labels = labels.to(device)\n",
    "            \n",
    "            # Forward pass\n",
    "            labels_predicted = model(images.float())\n",
    "            \n",
    "            # Backpropagation: compute the gradients and apply the gradient descent algorithm\n",
    "            loss = loss_fn(labels_predicted, labels)\n",
    "            optimizer.zero_grad()\n",
    "            loss.backward()\n",
    "            optimizer.step()\n",
    "            \n",
    "            # Add the batch loss to the current epoch loss to update the loss\n",
    "            loss_current_epoch += loss.item()\n",
    "\n",
    "        # At the end of each epoch, record and display the loss over all batches\n",
    "        loss_all_epochs.append(loss_current_epoch)\n",
    "        if verbose:\n",
    "            print('Epoch [{}/{}], Loss: {:.4f}'.format(epoch+1, num_epochs, loss_current_epoch))\n",
    "        \n",
    "    return model, loss_all_epochs"
   ]
  },
  {
   "cell_type": "code",
   "execution_count": 45,
   "metadata": {
    "colab": {
     "base_uri": "https://localhost:8080/"
    },
    "id": "E0qckLRt7Fjm",
    "outputId": "184d319c-e161-4f5c-993d-906ae4b48134"
   },
   "outputs": [
    {
     "name": "stdout",
     "output_type": "stream",
     "text": [
      "Epoch [1/10], Loss: 330.4906\n",
      "Epoch [2/10], Loss: 330.1123\n",
      "Epoch [3/10], Loss: 329.2391\n",
      "Epoch [4/10], Loss: 330.0054\n",
      "Epoch [5/10], Loss: 329.8949\n",
      "Epoch [6/10], Loss: 329.6443\n",
      "Epoch [7/10], Loss: 329.5526\n",
      "Epoch [8/10], Loss: 329.5684\n",
      "Epoch [9/10], Loss: 329.5990\n",
      "Epoch [10/10], Loss: 329.4819\n"
     ]
    }
   ],
   "source": [
    "model, loss_all_epochs = training_mlp_classifier(model, train_dataloader, num_epochs, loss_fn, learning_rate, device)"
   ]
  },
  {
   "cell_type": "code",
   "execution_count": 49,
   "metadata": {
    "colab": {
     "base_uri": "https://localhost:8080/",
     "height": 266
    },
    "id": "EeYID85CaTEe",
    "outputId": "90674077-fdad-4db3-f35b-8bba1a7ff213"
   },
   "outputs": [
    {
     "data": {
      "image/png": "[encoded data removed]",
      "text/plain": [
       "<Figure size 432x288 with 1 Axes>"
      ]
     },
     "metadata": {
      "needs_background": "light"
     },
     "output_type": "display_data"
    }
   ],
   "source": [
    "# Display the loss over epochs\n",
    "plt.plot(loss_all_epochs)\n",
    "plt.show()"
   ]
  },
  {
   "cell_type": "markdown",
   "metadata": {
    "id": "gZeu5s7dwlXn"
   },
   "source": [
    "## 6.1. Evaluate the model on the test data (without validation)"
   ]
  },
  {
   "cell_type": "code",
   "execution_count": 50,
   "metadata": {
    "id": "M4TSFdz75uSx"
   },
   "outputs": [],
   "source": [
    "# Evaluation function\n",
    "def eval_mlp_classifier(model, eval_dataloader, device='cpu'):\n",
    "\n",
    "    # Copy the model to the device\n",
    "    model.to(device)\n",
    "    # Set the model in 'evaluation' mode (this disables some layers (batch norm, dropout...) which are not needed when testing)\n",
    "    model.eval() \n",
    "\n",
    "    # In evaluation phase, we don't need to compute gradients (for memory efficiency)\n",
    "    with torch.no_grad():\n",
    "        # initialize the total and correct number of labels to compute the accuracy\n",
    "        correct_labels = 0\n",
    "        total_labels = 0\n",
    "        \n",
    "        # Iterate over the dataset using the dataloader\n",
    "        for images, labels in eval_dataloader:\n",
    "\n",
    "            # Get the predicted labels classes\n",
    "            images = images.reshape(images.shape[0], -1).to(device)\n",
    "            labels = labels.to(device)\n",
    "            y_predicted = model(images.float())\n",
    "            \n",
    "            # To get the predicted labels, we need to get the max over all possible classes\n",
    "            _, label_predicted = torch.max(y_predicted.data, 1)\n",
    "            \n",
    "            # Compute accuracy: count the total number of samples, and the correct labels (compare the true and predicted labels)\n",
    "            total_labels += labels.size(0)\n",
    "            correct_labels += (label_predicted == labels).sum().item()\n",
    "    \n",
    "    accuracy = 100 * correct_labels / total_labels\n",
    "    \n",
    "    return accuracy"
   ]
  },
  {
   "cell_type": "code",
   "execution_count": 51,
   "metadata": {
    "colab": {
     "base_uri": "https://localhost:8080/"
    },
    "id": "A4mitMMyZ3iK",
    "outputId": "f7681975-7886-445b-a10e-9937cf4a09b9"
   },
   "outputs": [
    {
     "name": "stdout",
     "output_type": "stream",
     "text": [
      "Accuracy of the network on the test images:  47.05882352941177 %\n"
     ]
    }
   ],
   "source": [
    "# Evaluate the model on the test set and display the accuracy\n",
    "accuracy = eval_mlp_classifier(model, test_dataloader, device)\n",
    "print('Accuracy of the network on the test images: ', accuracy, '%')"
   ]
  },
  {
   "cell_type": "markdown",
   "metadata": {},
   "source": [
    "## 4.2. Define the hyperparameters to create an instance of the model and the parameters required to train neural network (with validation)"
   ]
  },
  {
   "cell_type": "code",
   "execution_count": 60,
   "metadata": {},
   "outputs": [
    {
     "name": "stdout",
     "output_type": "stream",
     "text": [
      "Total number of parameters:  4915502\n"
     ]
    }
   ],
   "source": [
    "# Hyperparameters to create an instance of the model\n",
    "input_size = train_dataset[0][0].shape[0]*train_dataset[0][0].shape[1]*train_dataset[0][0].shape[2]\n",
    "hidden_size = 100\n",
    "act_fn = nn.Sigmoid()\n",
    "output_size = len(classes)\n",
    "\n",
    "# Parameters to train the mlp classifier\n",
    "num_epochs = 10\n",
    "learning_rate = 0.001\n",
    "loss_fn = nn.CrossEntropyLoss()\n",
    "if torch.cuda.is_available():\n",
    "    device = 'cuda'\n",
    "else:\n",
    "    device = 'cpu'\n",
    "\n",
    "# Instanciate the model\n",
    "model_val = MLPClassif(input_size, hidden_size, output_size, act_fn)\n",
    "\n",
    "# Display the total number of parameters in the model\n",
    "print('Total number of parameters: ', sum(p.numel() for p in model_val.parameters()))"
   ]
  },
  {
   "cell_type": "markdown",
   "metadata": {},
   "source": [
    "## 5.2. Write the training loop for training the model (with validation)"
   ]
  },
  {
   "cell_type": "code",
   "execution_count": 61,
   "metadata": {
    "id": "obW6Ifoll3Vm"
   },
   "outputs": [],
   "source": [
    "# Training function with validation\n",
    "def train_val_mlp_classifier(model, train_dataloader, valid_dataloader, num_epochs, loss_fn, learning_rate, device='cuda'):\n",
    "\n",
    "    # Copy the model to the device and set it in 'training' mode (thus all gradients are computed)\n",
    "    model = model.to(device)\n",
    "    model.train()\n",
    "    \n",
    "    # Define the optimizer\n",
    "    optimizer = torch.optim.SGD(model.parameters(), lr=learning_rate)\n",
    "    \n",
    "    # Initialize a list to record the training loss and validation accuracy over epochs\n",
    "    loss_all_epochs = []\n",
    "    accuracy_val_all_epochs = []\n",
    "    \n",
    "    # Initialize the \"optimal\" accuracy, which will be used for performing validation\n",
    "    accuracy_opt = 0\n",
    "    \n",
    "    # Training loop\n",
    "    for epoch in range(num_epochs):\n",
    "        # Initialize the training loss for the current epoch\n",
    "        loss_current_epoch = 0\n",
    "        \n",
    "        # Iterate over batches (using the dataloader)\n",
    "        for batch_index, (images, labels) in enumerate(train_dataloader):\n",
    "            \n",
    "            # Vectorize the images and copy the data to the device\n",
    "            images = images.reshape(-1, input_size)\n",
    "            images = images.to(device)\n",
    "            labels = labels.to(device)\n",
    "\n",
    "            # Forward pass\n",
    "            labels_predicted = model(images.float())\n",
    "            loss = loss_fn(labels_predicted, labels)\n",
    "            \n",
    "            # Gradient descent\n",
    "            optimizer.zero_grad()\n",
    "            loss.backward()\n",
    "            optimizer.step()\n",
    "            \n",
    "            # Add the batch loss to the current epoch loss\n",
    "            loss_current_epoch += loss.item()\n",
    "\n",
    "        # At the end of each epoch, record the loss over all batches and the accuracy on the validation set\n",
    "        loss_all_epochs.append(loss_current_epoch)\n",
    "        accuracy_current_epoch = eval_mlp_classifier(model, valid_dataloader, device)\n",
    "        accuracy_val_all_epochs.append(accuracy_current_epoch)\n",
    "        \n",
    "        # Display the training loss and validation accuracy\n",
    "        print('Epoch [{}/{}], Training loss: {:.4f} ; Validation accuracy: {:.4f}'\n",
    "               .format(epoch+1, num_epochs, loss_current_epoch, accuracy_current_epoch))\n",
    "            \n",
    "        # Now record the model if the accuracy is higher than the \"optimal\" value\n",
    "        if accuracy_current_epoch > accuracy_opt:\n",
    "            model_opt = model\n",
    "            accuracy_opt = accuracy_current_epoch\n",
    "\n",
    "    return model_opt, loss_all_epochs, accuracy_val_all_epochs"
   ]
  },
  {
   "cell_type": "code",
   "execution_count": 63,
   "metadata": {
    "colab": {
     "base_uri": "https://localhost:8080/"
    },
    "id": "dFqVm0SrxxBx",
    "outputId": "1ce5fdec-6385-41c8-d01a-6b57206d0606"
   },
   "outputs": [
    {
     "name": "stdout",
     "output_type": "stream",
     "text": [
      "Epoch [1/10], Training loss: 329.3663 ; Validation accuracy: 53.1707\n",
      "Epoch [2/10], Training loss: 328.5305 ; Validation accuracy: 53.1707\n",
      "Epoch [3/10], Training loss: 327.7014 ; Validation accuracy: 55.1220\n",
      "Epoch [4/10], Training loss: 326.9756 ; Validation accuracy: 60.0000\n",
      "Epoch [5/10], Training loss: 326.3771 ; Validation accuracy: 55.1220\n",
      "Epoch [6/10], Training loss: 325.6967 ; Validation accuracy: 59.5122\n",
      "Epoch [7/10], Training loss: 325.0542 ; Validation accuracy: 56.5854\n",
      "Epoch [8/10], Training loss: 324.3339 ; Validation accuracy: 60.4878\n",
      "Epoch [9/10], Training loss: 323.6661 ; Validation accuracy: 56.5854\n",
      "Epoch [10/10], Training loss: 323.3373 ; Validation accuracy: 57.0732\n"
     ]
    }
   ],
   "source": [
    "# Train the MLP classifier model with validation\n",
    "model_val, loss_all_epochs, accuracy_validation = train_val_mlp_classifier(model_val, train_dataloader, valid_dataloader, num_epochs, loss_fn, learning_rate, device)"
   ]
  },
  {
   "cell_type": "code",
   "execution_count": 71,
   "metadata": {
    "id": "iaqvTuNUxe_4"
   },
   "outputs": [
    {
     "data": {
      "image/png": "[encoded data removed]",
      "text/plain": [
       "<Figure size 432x288 with 2 Axes>"
      ]
     },
     "metadata": {
      "needs_background": "light"
     },
     "output_type": "display_data"
    }
   ],
   "source": [
    "# Display the training loss and validation accuracy over epochs\n",
    "fig = plt.figure()\n",
    "plt.subplot(1, 2, 1)\n",
    "plt.plot(loss_all_epochs)\n",
    "plt.title('Training loss')\n",
    "plt.subplot(1, 2, 2)\n",
    "plt.plot(accuracy_validation)\n",
    "plt.title('Validation accuracy')\n",
    "plt.show()"
   ]
  },
  {
   "cell_type": "markdown",
   "metadata": {},
   "source": [
    "## 6.1. Evaluate the model on the test data (with validation)"
   ]
  },
  {
   "cell_type": "code",
   "execution_count": 66,
   "metadata": {
    "id": "E-n4bPTmO4NA"
   },
   "outputs": [
    {
     "name": "stdout",
     "output_type": "stream",
     "text": [
      "Accuracy of the network on the test images:  52.69607843137255 %\n"
     ]
    }
   ],
   "source": [
    "# Evaluate the model on the test set and display the accuracy\n",
    "accuracy = eval_mlp_classifier(model_val, test_dataloader, device)\n",
    "print('Accuracy of the network on the test images: ', accuracy, '%')"
   ]
  },
  {
   "cell_type": "markdown",
   "metadata": {
    "id": "6tej1MzRyFzo"
   },
   "source": [
    "## 7.2. Save the trained model parameters, and the obtained results (with validation)"
   ]
  },
  {
   "cell_type": "code",
   "execution_count": 67,
   "metadata": {
    "id": "IvgdAJ72x-w4"
   },
   "outputs": [],
   "source": [
    "# Save the model parameters\n",
    "torch.save(model.state_dict(), 'model_mlp_classif_val'+'b'+str(batch_size)+'h'+str(hidden_size)+'e'+str(num_epochs)+'.pt')"
   ]
  },
  {
   "cell_type": "code",
   "execution_count": 72,
   "metadata": {
    "id": "7qr1QnG1yheJ"
   },
   "outputs": [],
   "source": [
    "# Save the figure with the training loss and validation accuracy over epochs\n",
    "fig.savefig('results'+'b'+str(batch_size)+'h'+str(hidden_size)+'e'+str(num_epochs)+'_val'+'.png')"
   ]
  },
  {
   "cell_type": "markdown",
   "metadata": {
    "id": "vgdrArWl3bdW"
   },
   "source": [
    "# Tensorflow version"
   ]
  },
  {
   "cell_type": "markdown",
   "metadata": {
    "id": "DUxGKwNzMFmR"
   },
   "source": [
    "## Libraries"
   ]
  },
  {
   "cell_type": "code",
   "execution_count": null,
   "metadata": {
    "id": "oi81o_iz4IHT"
   },
   "outputs": [],
   "source": [
    "import os\n",
    "import numpy as np \n",
    "import pandas as pd \n",
    "import cv2\n",
    "from tensorflow.keras.optimizers import SGD\n",
    "from sklearn.metrics import classification_report\n",
    "import pickle\n",
    "import matplotlib.pyplot as plt\n",
    "import random\n",
    "from random import shuffle\n",
    "from tqdm import tqdm\n",
    "import tensorflow as tf\n",
    "from tensorflow import keras\n",
    "from tensorflow.keras.models import Sequential\n",
    "from tensorflow.keras.layers import Dense, Dropout,Activation,Flatten, Conv2D, MaxPooling2D,BatchNormalization\n",
    "from sklearn.preprocessing import LabelBinarizer\n",
    "from keras import regularizers"
   ]
  },
  {
   "cell_type": "code",
   "execution_count": null,
   "metadata": {
    "colab": {
     "base_uri": "https://localhost:8080/"
    },
    "id": "aPOS9T-F4KJQ",
    "outputId": "ef98ffff-b491-4825-8ac3-304adc3f9e19"
   },
   "outputs": [
    {
     "name": "stdout",
     "output_type": "stream",
     "text": [
      "1081\n",
      "960\n"
     ]
    }
   ],
   "source": [
    "real = \"real_and_fake_face_detection/real_and_fake_face/training_real/\"\n",
    "fake = \"real_and_fake_face_detection/real_and_fake_face/training_fake\"\n",
    "# create a list of real and fake images\n",
    "real_path = os.listdir(real)\n",
    "fake_path = os.listdir(fake)\n",
    "print(len(real_path))\n",
    "print(len(fake_path))"
   ]
  },
  {
   "cell_type": "code",
   "execution_count": null,
   "metadata": {
    "colab": {
     "base_uri": "https://localhost:8080/",
     "height": 269
    },
    "id": "yxKlgKIH4fAe",
    "outputId": "30728c21-cd24-4327-d8c1-b5d62ad49a38"
   },
   "outputs": [
    {
     "data": {
      "image/png": "[encoded data removed]",
      "text/plain": [
       "<Figure size 432x288 with 1 Axes>"
      ]
     },
     "metadata": {
      "needs_background": "light"
     },
     "output_type": "display_data"
    }
   ],
   "source": [
    "plt.imshow(cv2.imread(os.path.join(real, real_path[0])))\n",
    "plt.show()"
   ]
  },
  {
   "cell_type": "markdown",
   "metadata": {
    "id": "LQmQTbbr23BP"
   },
   "source": [
    "## Write Dataset for Training and test"
   ]
  },
  {
   "cell_type": "code",
   "execution_count": null,
   "metadata": {
    "colab": {
     "base_uri": "https://localhost:8080/"
    },
    "id": "FxVwgebU4gkB",
    "outputId": "f77f0898-011f-48fe-ac8b-c01217e0fa6b"
   },
   "outputs": [
    {
     "name": "stderr",
     "output_type": "stream",
     "text": [
      "100%|██████████| 100/100 [00:01<00:00, 60.09it/s]\n",
      "100%|██████████| 100/100 [00:01<00:00, 59.41it/s]\n"
     ]
    }
   ],
   "source": [
    "img_size = int(128)\n",
    "\n",
    "def create_training_data():\n",
    "    training_data = []\n",
    "    y = []\n",
    "    for img in tqdm(real_path[:981]):\n",
    "        path = os.path.join(real, img)\n",
    "        #         label = [1]\n",
    "        image = cv2.resize(cv2.imread(path), (img_size, img_size))\n",
    "        training_data.append(np.array(image))\n",
    "        y.append(1)\n",
    "\n",
    "    for img in tqdm(fake_path[:860]):\n",
    "        path = os.path.join(fake, img)\n",
    "        #         label = [0]\n",
    "        image = cv2.resize(cv2.imread(path), (img_size, img_size))\n",
    "        training_data.append(np.array(image))\n",
    "        y.append(0)\n",
    "\n",
    "    return (training_data, y)\n",
    "\n",
    "def create_test_data():\n",
    "    test_data = []\n",
    "    output_data = []\n",
    "    for img in tqdm(real_path[981:]):\n",
    "        path = os.path.join(real, img)\n",
    "        image = cv2.resize(cv2.imread(path), (img_size, img_size))\n",
    "\n",
    "        test_data.append(np.array(image))\n",
    "        output_data.append(1)\n",
    "\n",
    "    for img in tqdm(fake_path[860:]):\n",
    "        path = os.path.join(fake, img)\n",
    "        image = cv2.resize(cv2.imread(path), (img_size, img_size))\n",
    "\n",
    "        test_data.append(np.array(image))\n",
    "        output_data.append(0)\n",
    "\n",
    "    return (test_data, output_data)\n",
    "\n",
    "X_test, Y_test = create_test_data()"
   ]
  },
  {
   "cell_type": "code",
   "execution_count": null,
   "metadata": {
    "colab": {
     "base_uri": "https://localhost:8080/"
    },
    "id": "DPntjEZA4nzL",
    "outputId": "5dec5538-2588-4e11-de3c-e526e6aee234"
   },
   "outputs": [
    {
     "name": "stderr",
     "output_type": "stream",
     "text": [
      "100%|██████████| 981/981 [00:17<00:00, 56.25it/s]\n",
      "100%|██████████| 860/860 [04:39<00:00,  3.08it/s]\n"
     ]
    }
   ],
   "source": [
    "X_train, Y_train = create_training_data()"
   ]
  },
  {
   "cell_type": "code",
   "execution_count": null,
   "metadata": {
    "id": "BhM8eipJ4o3A"
   },
   "outputs": [],
   "source": [
    "l=list(zip(X_train,Y_train))\n",
    "shuffle(l)\n",
    "X_train,Y_train=zip(*l)"
   ]
  },
  {
   "cell_type": "code",
   "execution_count": null,
   "metadata": {
    "colab": {
     "base_uri": "https://localhost:8080/"
    },
    "id": "thc49wjo4sJ0",
    "outputId": "3385a4bf-abc9-4fb4-ef1a-d66c7f1943cd"
   },
   "outputs": [
    {
     "name": "stdout",
     "output_type": "stream",
     "text": [
      "[[[[ 51  63  51]\n",
      "   [ 54  65  54]\n",
      "   [ 54  67  55]\n",
      "   ...\n",
      "   [102 119 135]\n",
      "   [111 129 158]\n",
      "   [115 133 165]]\n",
      "\n",
      "  [[ 38  45  38]\n",
      "   [ 36  43  36]\n",
      "   [ 42  52  40]\n",
      "   ...\n",
      "   [107 118 130]\n",
      "   [102 118 140]\n",
      "   [110 126 134]]\n",
      "\n",
      "  [[ 37  44  37]\n",
      "   [ 38  43  34]\n",
      "   [ 43  51  40]\n",
      "   ...\n",
      "   [109 119 127]\n",
      "   [104 117 139]\n",
      "   [ 97 112 118]]\n",
      "\n",
      "  ...\n",
      "\n",
      "  [[ 27  33  45]\n",
      "   [ 17  20  23]\n",
      "   [ 35  43  72]\n",
      "   ...\n",
      "   [ 37  44  71]\n",
      "   [ 35  42  60]\n",
      "   [ 32  42  72]]\n",
      "\n",
      "  [[ 22  29  43]\n",
      "   [ 23  31  46]\n",
      "   [ 36  40  66]\n",
      "   ...\n",
      "   [ 30  37  64]\n",
      "   [ 32  39  72]\n",
      "   [ 31  39  69]]\n",
      "\n",
      "  [[ 22  27  47]\n",
      "   [ 22  31  40]\n",
      "   [ 35  39  64]\n",
      "   ...\n",
      "   [ 22  29  49]\n",
      "   [ 22  29  47]\n",
      "   [ 22  29  47]]]\n",
      "\n",
      "\n",
      " [[[ 33  39  46]\n",
      "   [ 34  40  47]\n",
      "   [ 32  38  45]\n",
      "   ...\n",
      "   [ 37  43  50]\n",
      "   [ 37  39  57]\n",
      "   [ 37  40  55]]\n",
      "\n",
      "  [[ 34  40  47]\n",
      "   [ 35  41  48]\n",
      "   [ 35  41  48]\n",
      "   ...\n",
      "   [ 39  45  52]\n",
      "   [ 38  40  59]\n",
      "   [ 36  42  50]]\n",
      "\n",
      "  [[ 34  40  47]\n",
      "   [ 35  41  48]\n",
      "   [ 30  36  43]\n",
      "   ...\n",
      "   [ 31  37  44]\n",
      "   [ 29  35  42]\n",
      "   [ 27  33  40]]\n",
      "\n",
      "  ...\n",
      "\n",
      "  [[227 216 202]\n",
      "   [221 209 197]\n",
      "   [234 219 208]\n",
      "   ...\n",
      "   [206 183 144]\n",
      "   [219 197 160]\n",
      "   [221 207 175]]\n",
      "\n",
      "  [[235 221 200]\n",
      "   [234 220 203]\n",
      "   [216 206 186]\n",
      "   ...\n",
      "   [208 185 145]\n",
      "   [212 197 165]\n",
      "   [222 207 176]]\n",
      "\n",
      "  [[233 219 201]\n",
      "   [222 203 177]\n",
      "   [205 190 163]\n",
      "   ...\n",
      "   [221 200 166]\n",
      "   [221 210 181]\n",
      "   [228 214 191]]]\n",
      "\n",
      "\n",
      " [[[225 222 217]\n",
      "   [225 222 217]\n",
      "   [225 222 217]\n",
      "   ...\n",
      "   [232 229 224]\n",
      "   [232 229 224]\n",
      "   [232 229 224]]\n",
      "\n",
      "  [[226 223 218]\n",
      "   [225 222 217]\n",
      "   [225 222 217]\n",
      "   ...\n",
      "   [232 229 224]\n",
      "   [232 229 224]\n",
      "   [232 229 224]]\n",
      "\n",
      "  [[226 223 218]\n",
      "   [226 223 218]\n",
      "   [226 223 218]\n",
      "   ...\n",
      "   [232 229 224]\n",
      "   [232 229 224]\n",
      "   [232 229 224]]\n",
      "\n",
      "  ...\n",
      "\n",
      "  [[ 42  48  46]\n",
      "   [ 34  35  34]\n",
      "   [ 35  37  37]\n",
      "   ...\n",
      "   [214 211 207]\n",
      "   [213 210 205]\n",
      "   [213 210 205]]\n",
      "\n",
      "  [[ 28  29  27]\n",
      "   [ 34  36  33]\n",
      "   [ 40  45  46]\n",
      "   ...\n",
      "   [211 208 203]\n",
      "   [209 209 203]\n",
      "   [208 207 203]]\n",
      "\n",
      "  [[ 50  54  55]\n",
      "   [ 39  45  45]\n",
      "   [ 43  47  48]\n",
      "   ...\n",
      "   [206 206 200]\n",
      "   [205 204 200]\n",
      "   [204 203 199]]]\n",
      "\n",
      "\n",
      " ...\n",
      "\n",
      "\n",
      " [[[ 98 120 137]\n",
      "   [117 127 145]\n",
      "   [101 120 135]\n",
      "   ...\n",
      "   [ 81  92 107]\n",
      "   [ 79  92 101]\n",
      "   [ 77  84  98]]\n",
      "\n",
      "  [[100 125 138]\n",
      "   [ 92 102 124]\n",
      "   [100 106 126]\n",
      "   ...\n",
      "   [ 84  92 108]\n",
      "   [ 83  95 110]\n",
      "   [ 80  90 102]]\n",
      "\n",
      "  [[108 123 137]\n",
      "   [ 91 115 124]\n",
      "   [ 88  98 119]\n",
      "   ...\n",
      "   [ 83  94 103]\n",
      "   [ 76  93 105]\n",
      "   [ 76  92 101]]\n",
      "\n",
      "  ...\n",
      "\n",
      "  [[ 50  59  79]\n",
      "   [ 58  62  79]\n",
      "   [ 63  75  93]\n",
      "   ...\n",
      "   [ 93 105 115]\n",
      "   [ 84 102 106]\n",
      "   [ 91 108 123]]\n",
      "\n",
      "  [[ 52  74  81]\n",
      "   [ 41  36  41]\n",
      "   [ 43  64  78]\n",
      "   ...\n",
      "   [ 81  94 102]\n",
      "   [ 91  97 108]\n",
      "   [ 85  68  89]]\n",
      "\n",
      "  [[ 52  70  83]\n",
      "   [ 47  56  65]\n",
      "   [ 44  51  66]\n",
      "   ...\n",
      "   [ 92 102 126]\n",
      "   [ 91  89 103]\n",
      "   [ 98  92 117]]]\n",
      "\n",
      "\n",
      " [[[ 66  26   4]\n",
      "   [114  67  38]\n",
      "   [159 101  64]\n",
      "   ...\n",
      "   [ 85  51  35]\n",
      "   [110  80  62]\n",
      "   [101  71  55]]\n",
      "\n",
      "  [[141 100  75]\n",
      "   [183 153 132]\n",
      "   [177 122  97]\n",
      "   ...\n",
      "   [ 84  56  41]\n",
      "   [117  84  69]\n",
      "   [109  76  60]]\n",
      "\n",
      "  [[101  52  28]\n",
      "   [224 207 190]\n",
      "   [197 172 158]\n",
      "   ...\n",
      "   [ 63  33  21]\n",
      "   [ 75  44  29]\n",
      "   [ 95  64  48]]\n",
      "\n",
      "  ...\n",
      "\n",
      "  [[ 67  35  16]\n",
      "   [ 81  48  32]\n",
      "   [ 77  43  27]\n",
      "   ...\n",
      "   [ 39  50  82]\n",
      "   [ 28  37  69]\n",
      "   [ 30  37  64]]\n",
      "\n",
      "  [[ 72  40  22]\n",
      "   [ 65  33  15]\n",
      "   [ 96  56  33]\n",
      "   ...\n",
      "   [ 27  36  66]\n",
      "   [ 30  39  72]\n",
      "   [ 24  34  64]]\n",
      "\n",
      "  [[152 118  98]\n",
      "   [187 147 130]\n",
      "   [ 66  34  11]\n",
      "   ...\n",
      "   [ 29  40  73]\n",
      "   [ 27  37  67]\n",
      "   [ 31  41  74]]]\n",
      "\n",
      "\n",
      " [[[ 41  57  86]\n",
      "   [ 37  53  82]\n",
      "   [ 38  55  82]\n",
      "   ...\n",
      "   [ 68 112 125]\n",
      "   [ 68 111 126]\n",
      "   [ 66 109 124]]\n",
      "\n",
      "  [[ 41  52  82]\n",
      "   [ 39  50  80]\n",
      "   [ 41  53  81]\n",
      "   ...\n",
      "   [ 66 114 126]\n",
      "   [ 69 113 128]\n",
      "   [ 67 110 125]]\n",
      "\n",
      "  [[ 37  48  78]\n",
      "   [ 40  48  77]\n",
      "   [ 36  47  75]\n",
      "   ...\n",
      "   [ 67 116 126]\n",
      "   [ 69 115 126]\n",
      "   [ 66 112 123]]\n",
      "\n",
      "  ...\n",
      "\n",
      "  [[ 46  83 167]\n",
      "   [ 60  93 186]\n",
      "   [ 61  87 176]\n",
      "   ...\n",
      "   [189 196 191]\n",
      "   [ 36  87  81]\n",
      "   [  1  78  71]]\n",
      "\n",
      "  [[ 46  74 146]\n",
      "   [ 45  66 140]\n",
      "   [ 28  49  96]\n",
      "   ...\n",
      "   [187 148 112]\n",
      "   [137 168 155]\n",
      "   [  9  78  76]]\n",
      "\n",
      "  [[  8  35  91]\n",
      "   [ 18  42  87]\n",
      "   [  5  27  55]\n",
      "   ...\n",
      "   [171 133  69]\n",
      "   [196 194 188]\n",
      "   [ 16  84  69]]]]\n"
     ]
    }
   ],
   "source": [
    "# print(X[0].reshape(-1, 50, 50, 1))\n",
    "X_train = np.array(X_train)\n",
    "print(X_train)"
   ]
  },
  {
   "cell_type": "markdown",
   "metadata": {
    "id": "e1PRdz3M3Ag1"
   },
   "source": [
    "## Normalize the Data"
   ]
  },
  {
   "cell_type": "code",
   "execution_count": null,
   "metadata": {
    "colab": {
     "base_uri": "https://localhost:8080/"
    },
    "id": "wMojpMk44s9M",
    "outputId": "5e033984-187f-43d2-d82c-a68070c5bd63"
   },
   "outputs": [
    {
     "name": "stdout",
     "output_type": "stream",
     "text": [
      "[[[[0.2        0.24705882 0.2       ]\n",
      "   [0.21176471 0.25490196 0.21176471]\n",
      "   [0.21176471 0.2627451  0.21568627]\n",
      "   ...\n",
      "   [0.4        0.46666667 0.52941176]\n",
      "   [0.43529412 0.50588235 0.61960784]\n",
      "   [0.45098039 0.52156863 0.64705882]]\n",
      "\n",
      "  [[0.14901961 0.17647059 0.14901961]\n",
      "   [0.14117647 0.16862745 0.14117647]\n",
      "   [0.16470588 0.20392157 0.15686275]\n",
      "   ...\n",
      "   [0.41960784 0.4627451  0.50980392]\n",
      "   [0.4        0.4627451  0.54901961]\n",
      "   [0.43137255 0.49411765 0.5254902 ]]\n",
      "\n",
      "  [[0.14509804 0.17254902 0.14509804]\n",
      "   [0.14901961 0.16862745 0.13333333]\n",
      "   [0.16862745 0.2        0.15686275]\n",
      "   ...\n",
      "   [0.42745098 0.46666667 0.49803922]\n",
      "   [0.40784314 0.45882353 0.54509804]\n",
      "   [0.38039216 0.43921569 0.4627451 ]]\n",
      "\n",
      "  ...\n",
      "\n",
      "  [[0.10588235 0.12941176 0.17647059]\n",
      "   [0.06666667 0.07843137 0.09019608]\n",
      "   [0.1372549  0.16862745 0.28235294]\n",
      "   ...\n",
      "   [0.14509804 0.17254902 0.27843137]\n",
      "   [0.1372549  0.16470588 0.23529412]\n",
      "   [0.1254902  0.16470588 0.28235294]]\n",
      "\n",
      "  [[0.08627451 0.11372549 0.16862745]\n",
      "   [0.09019608 0.12156863 0.18039216]\n",
      "   [0.14117647 0.15686275 0.25882353]\n",
      "   ...\n",
      "   [0.11764706 0.14509804 0.25098039]\n",
      "   [0.1254902  0.15294118 0.28235294]\n",
      "   [0.12156863 0.15294118 0.27058824]]\n",
      "\n",
      "  [[0.08627451 0.10588235 0.18431373]\n",
      "   [0.08627451 0.12156863 0.15686275]\n",
      "   [0.1372549  0.15294118 0.25098039]\n",
      "   ...\n",
      "   [0.08627451 0.11372549 0.19215686]\n",
      "   [0.08627451 0.11372549 0.18431373]\n",
      "   [0.08627451 0.11372549 0.18431373]]]\n",
      "\n",
      "\n",
      " [[[0.12941176 0.15294118 0.18039216]\n",
      "   [0.13333333 0.15686275 0.18431373]\n",
      "   [0.1254902  0.14901961 0.17647059]\n",
      "   ...\n",
      "   [0.14509804 0.16862745 0.19607843]\n",
      "   [0.14509804 0.15294118 0.22352941]\n",
      "   [0.14509804 0.15686275 0.21568627]]\n",
      "\n",
      "  [[0.13333333 0.15686275 0.18431373]\n",
      "   [0.1372549  0.16078431 0.18823529]\n",
      "   [0.1372549  0.16078431 0.18823529]\n",
      "   ...\n",
      "   [0.15294118 0.17647059 0.20392157]\n",
      "   [0.14901961 0.15686275 0.23137255]\n",
      "   [0.14117647 0.16470588 0.19607843]]\n",
      "\n",
      "  [[0.13333333 0.15686275 0.18431373]\n",
      "   [0.1372549  0.16078431 0.18823529]\n",
      "   [0.11764706 0.14117647 0.16862745]\n",
      "   ...\n",
      "   [0.12156863 0.14509804 0.17254902]\n",
      "   [0.11372549 0.1372549  0.16470588]\n",
      "   [0.10588235 0.12941176 0.15686275]]\n",
      "\n",
      "  ...\n",
      "\n",
      "  [[0.89019608 0.84705882 0.79215686]\n",
      "   [0.86666667 0.81960784 0.77254902]\n",
      "   [0.91764706 0.85882353 0.81568627]\n",
      "   ...\n",
      "   [0.80784314 0.71764706 0.56470588]\n",
      "   [0.85882353 0.77254902 0.62745098]\n",
      "   [0.86666667 0.81176471 0.68627451]]\n",
      "\n",
      "  [[0.92156863 0.86666667 0.78431373]\n",
      "   [0.91764706 0.8627451  0.79607843]\n",
      "   [0.84705882 0.80784314 0.72941176]\n",
      "   ...\n",
      "   [0.81568627 0.7254902  0.56862745]\n",
      "   [0.83137255 0.77254902 0.64705882]\n",
      "   [0.87058824 0.81176471 0.69019608]]\n",
      "\n",
      "  [[0.91372549 0.85882353 0.78823529]\n",
      "   [0.87058824 0.79607843 0.69411765]\n",
      "   [0.80392157 0.74509804 0.63921569]\n",
      "   ...\n",
      "   [0.86666667 0.78431373 0.65098039]\n",
      "   [0.86666667 0.82352941 0.70980392]\n",
      "   [0.89411765 0.83921569 0.74901961]]]\n",
      "\n",
      "\n",
      " [[[0.88235294 0.87058824 0.85098039]\n",
      "   [0.88235294 0.87058824 0.85098039]\n",
      "   [0.88235294 0.87058824 0.85098039]\n",
      "   ...\n",
      "   [0.90980392 0.89803922 0.87843137]\n",
      "   [0.90980392 0.89803922 0.87843137]\n",
      "   [0.90980392 0.89803922 0.87843137]]\n",
      "\n",
      "  [[0.88627451 0.8745098  0.85490196]\n",
      "   [0.88235294 0.87058824 0.85098039]\n",
      "   [0.88235294 0.87058824 0.85098039]\n",
      "   ...\n",
      "   [0.90980392 0.89803922 0.87843137]\n",
      "   [0.90980392 0.89803922 0.87843137]\n",
      "   [0.90980392 0.89803922 0.87843137]]\n",
      "\n",
      "  [[0.88627451 0.8745098  0.85490196]\n",
      "   [0.88627451 0.8745098  0.85490196]\n",
      "   [0.88627451 0.8745098  0.85490196]\n",
      "   ...\n",
      "   [0.90980392 0.89803922 0.87843137]\n",
      "   [0.90980392 0.89803922 0.87843137]\n",
      "   [0.90980392 0.89803922 0.87843137]]\n",
      "\n",
      "  ...\n",
      "\n",
      "  [[0.16470588 0.18823529 0.18039216]\n",
      "   [0.13333333 0.1372549  0.13333333]\n",
      "   [0.1372549  0.14509804 0.14509804]\n",
      "   ...\n",
      "   [0.83921569 0.82745098 0.81176471]\n",
      "   [0.83529412 0.82352941 0.80392157]\n",
      "   [0.83529412 0.82352941 0.80392157]]\n",
      "\n",
      "  [[0.10980392 0.11372549 0.10588235]\n",
      "   [0.13333333 0.14117647 0.12941176]\n",
      "   [0.15686275 0.17647059 0.18039216]\n",
      "   ...\n",
      "   [0.82745098 0.81568627 0.79607843]\n",
      "   [0.81960784 0.81960784 0.79607843]\n",
      "   [0.81568627 0.81176471 0.79607843]]\n",
      "\n",
      "  [[0.19607843 0.21176471 0.21568627]\n",
      "   [0.15294118 0.17647059 0.17647059]\n",
      "   [0.16862745 0.18431373 0.18823529]\n",
      "   ...\n",
      "   [0.80784314 0.80784314 0.78431373]\n",
      "   [0.80392157 0.8        0.78431373]\n",
      "   [0.8        0.79607843 0.78039216]]]\n",
      "\n",
      "\n",
      " ...\n",
      "\n",
      "\n",
      " [[[0.38431373 0.47058824 0.5372549 ]\n",
      "   [0.45882353 0.49803922 0.56862745]\n",
      "   [0.39607843 0.47058824 0.52941176]\n",
      "   ...\n",
      "   [0.31764706 0.36078431 0.41960784]\n",
      "   [0.30980392 0.36078431 0.39607843]\n",
      "   [0.30196078 0.32941176 0.38431373]]\n",
      "\n",
      "  [[0.39215686 0.49019608 0.54117647]\n",
      "   [0.36078431 0.4        0.48627451]\n",
      "   [0.39215686 0.41568627 0.49411765]\n",
      "   ...\n",
      "   [0.32941176 0.36078431 0.42352941]\n",
      "   [0.3254902  0.37254902 0.43137255]\n",
      "   [0.31372549 0.35294118 0.4       ]]\n",
      "\n",
      "  [[0.42352941 0.48235294 0.5372549 ]\n",
      "   [0.35686275 0.45098039 0.48627451]\n",
      "   [0.34509804 0.38431373 0.46666667]\n",
      "   ...\n",
      "   [0.3254902  0.36862745 0.40392157]\n",
      "   [0.29803922 0.36470588 0.41176471]\n",
      "   [0.29803922 0.36078431 0.39607843]]\n",
      "\n",
      "  ...\n",
      "\n",
      "  [[0.19607843 0.23137255 0.30980392]\n",
      "   [0.22745098 0.24313725 0.30980392]\n",
      "   [0.24705882 0.29411765 0.36470588]\n",
      "   ...\n",
      "   [0.36470588 0.41176471 0.45098039]\n",
      "   [0.32941176 0.4        0.41568627]\n",
      "   [0.35686275 0.42352941 0.48235294]]\n",
      "\n",
      "  [[0.20392157 0.29019608 0.31764706]\n",
      "   [0.16078431 0.14117647 0.16078431]\n",
      "   [0.16862745 0.25098039 0.30588235]\n",
      "   ...\n",
      "   [0.31764706 0.36862745 0.4       ]\n",
      "   [0.35686275 0.38039216 0.42352941]\n",
      "   [0.33333333 0.26666667 0.34901961]]\n",
      "\n",
      "  [[0.20392157 0.2745098  0.3254902 ]\n",
      "   [0.18431373 0.21960784 0.25490196]\n",
      "   [0.17254902 0.2        0.25882353]\n",
      "   ...\n",
      "   [0.36078431 0.4        0.49411765]\n",
      "   [0.35686275 0.34901961 0.40392157]\n",
      "   [0.38431373 0.36078431 0.45882353]]]\n",
      "\n",
      "\n",
      " [[[0.25882353 0.10196078 0.01568627]\n",
      "   [0.44705882 0.2627451  0.14901961]\n",
      "   [0.62352941 0.39607843 0.25098039]\n",
      "   ...\n",
      "   [0.33333333 0.2        0.1372549 ]\n",
      "   [0.43137255 0.31372549 0.24313725]\n",
      "   [0.39607843 0.27843137 0.21568627]]\n",
      "\n",
      "  [[0.55294118 0.39215686 0.29411765]\n",
      "   [0.71764706 0.6        0.51764706]\n",
      "   [0.69411765 0.47843137 0.38039216]\n",
      "   ...\n",
      "   [0.32941176 0.21960784 0.16078431]\n",
      "   [0.45882353 0.32941176 0.27058824]\n",
      "   [0.42745098 0.29803922 0.23529412]]\n",
      "\n",
      "  [[0.39607843 0.20392157 0.10980392]\n",
      "   [0.87843137 0.81176471 0.74509804]\n",
      "   [0.77254902 0.6745098  0.61960784]\n",
      "   ...\n",
      "   [0.24705882 0.12941176 0.08235294]\n",
      "   [0.29411765 0.17254902 0.11372549]\n",
      "   [0.37254902 0.25098039 0.18823529]]\n",
      "\n",
      "  ...\n",
      "\n",
      "  [[0.2627451  0.1372549  0.0627451 ]\n",
      "   [0.31764706 0.18823529 0.1254902 ]\n",
      "   [0.30196078 0.16862745 0.10588235]\n",
      "   ...\n",
      "   [0.15294118 0.19607843 0.32156863]\n",
      "   [0.10980392 0.14509804 0.27058824]\n",
      "   [0.11764706 0.14509804 0.25098039]]\n",
      "\n",
      "  [[0.28235294 0.15686275 0.08627451]\n",
      "   [0.25490196 0.12941176 0.05882353]\n",
      "   [0.37647059 0.21960784 0.12941176]\n",
      "   ...\n",
      "   [0.10588235 0.14117647 0.25882353]\n",
      "   [0.11764706 0.15294118 0.28235294]\n",
      "   [0.09411765 0.13333333 0.25098039]]\n",
      "\n",
      "  [[0.59607843 0.4627451  0.38431373]\n",
      "   [0.73333333 0.57647059 0.50980392]\n",
      "   [0.25882353 0.13333333 0.04313725]\n",
      "   ...\n",
      "   [0.11372549 0.15686275 0.28627451]\n",
      "   [0.10588235 0.14509804 0.2627451 ]\n",
      "   [0.12156863 0.16078431 0.29019608]]]\n",
      "\n",
      "\n",
      " [[[0.16078431 0.22352941 0.3372549 ]\n",
      "   [0.14509804 0.20784314 0.32156863]\n",
      "   [0.14901961 0.21568627 0.32156863]\n",
      "   ...\n",
      "   [0.26666667 0.43921569 0.49019608]\n",
      "   [0.26666667 0.43529412 0.49411765]\n",
      "   [0.25882353 0.42745098 0.48627451]]\n",
      "\n",
      "  [[0.16078431 0.20392157 0.32156863]\n",
      "   [0.15294118 0.19607843 0.31372549]\n",
      "   [0.16078431 0.20784314 0.31764706]\n",
      "   ...\n",
      "   [0.25882353 0.44705882 0.49411765]\n",
      "   [0.27058824 0.44313725 0.50196078]\n",
      "   [0.2627451  0.43137255 0.49019608]]\n",
      "\n",
      "  [[0.14509804 0.18823529 0.30588235]\n",
      "   [0.15686275 0.18823529 0.30196078]\n",
      "   [0.14117647 0.18431373 0.29411765]\n",
      "   ...\n",
      "   [0.2627451  0.45490196 0.49411765]\n",
      "   [0.27058824 0.45098039 0.49411765]\n",
      "   [0.25882353 0.43921569 0.48235294]]\n",
      "\n",
      "  ...\n",
      "\n",
      "  [[0.18039216 0.3254902  0.65490196]\n",
      "   [0.23529412 0.36470588 0.72941176]\n",
      "   [0.23921569 0.34117647 0.69019608]\n",
      "   ...\n",
      "   [0.74117647 0.76862745 0.74901961]\n",
      "   [0.14117647 0.34117647 0.31764706]\n",
      "   [0.00392157 0.30588235 0.27843137]]\n",
      "\n",
      "  [[0.18039216 0.29019608 0.57254902]\n",
      "   [0.17647059 0.25882353 0.54901961]\n",
      "   [0.10980392 0.19215686 0.37647059]\n",
      "   ...\n",
      "   [0.73333333 0.58039216 0.43921569]\n",
      "   [0.5372549  0.65882353 0.60784314]\n",
      "   [0.03529412 0.30588235 0.29803922]]\n",
      "\n",
      "  [[0.03137255 0.1372549  0.35686275]\n",
      "   [0.07058824 0.16470588 0.34117647]\n",
      "   [0.01960784 0.10588235 0.21568627]\n",
      "   ...\n",
      "   [0.67058824 0.52156863 0.27058824]\n",
      "   [0.76862745 0.76078431 0.7372549 ]\n",
      "   [0.0627451  0.32941176 0.27058824]]]]\n",
      "[1 1 1 ... 0 1 0]\n"
     ]
    }
   ],
   "source": [
    "#divide by 255 to squish values to 0 - 1 normalization\n",
    "X_train = X_train/255.0\n",
    "Y_train=np.array(Y_train)\n",
    "print(X_train)\n",
    "print(Y_train)"
   ]
  },
  {
   "cell_type": "code",
   "execution_count": null,
   "metadata": {
    "id": "2J4f2Wq-4vqr"
   },
   "outputs": [],
   "source": [
    "X_test = np.array(X_test)"
   ]
  },
  {
   "cell_type": "code",
   "execution_count": null,
   "metadata": {
    "colab": {
     "base_uri": "https://localhost:8080/"
    },
    "id": "j9uBuzzU42IU",
    "outputId": "227c363c-27cd-407a-d144-d0ac93c16ceb"
   },
   "outputs": [
    {
     "name": "stdout",
     "output_type": "stream",
     "text": [
      "[[[[0.92941176 0.90196078 0.89019608]\n",
      "   [0.90980392 0.87843137 0.87843137]\n",
      "   [0.95294118 0.9254902  0.91372549]\n",
      "   ...\n",
      "   [0.94117647 0.91372549 0.90196078]\n",
      "   [0.96862745 0.94509804 0.9372549 ]\n",
      "   [0.97647059 0.96078431 0.94901961]]\n",
      "\n",
      "  [[0.90196078 0.87058824 0.85490196]\n",
      "   [0.9254902  0.89803922 0.88235294]\n",
      "   [0.93333333 0.91372549 0.90196078]\n",
      "   ...\n",
      "   [0.95294118 0.92156863 0.88627451]\n",
      "   [0.95686275 0.93333333 0.90588235]\n",
      "   [0.96862745 0.95294118 0.92156863]]\n",
      "\n",
      "  [[0.91372549 0.87843137 0.8627451 ]\n",
      "   [0.93333333 0.89803922 0.88235294]\n",
      "   [0.89803922 0.8745098  0.8627451 ]\n",
      "   ...\n",
      "   [0.91764706 0.87843137 0.82745098]\n",
      "   [0.90980392 0.88235294 0.84705882]\n",
      "   [0.93333333 0.91372549 0.87843137]]\n",
      "\n",
      "  ...\n",
      "\n",
      "  [[0.23137255 0.4        0.54509804]\n",
      "   [0.16862745 0.32156863 0.43529412]\n",
      "   [0.19215686 0.30588235 0.40784314]\n",
      "   ...\n",
      "   [0.24313725 0.43529412 0.62352941]\n",
      "   [0.34901961 0.54509804 0.7254902 ]\n",
      "   [0.31764706 0.52156863 0.70196078]]\n",
      "\n",
      "  [[0.1372549  0.35294118 0.44313725]\n",
      "   [0.06666667 0.21568627 0.31372549]\n",
      "   [0.16470588 0.31764706 0.44705882]\n",
      "   ...\n",
      "   [0.26666667 0.45882353 0.65490196]\n",
      "   [0.27843137 0.4627451  0.65490196]\n",
      "   [0.32941176 0.51764706 0.70588235]]\n",
      "\n",
      "  [[0.10980392 0.30588235 0.38431373]\n",
      "   [0.10980392 0.27058824 0.36470588]\n",
      "   [0.13333333 0.30588235 0.42352941]\n",
      "   ...\n",
      "   [0.2745098  0.47058824 0.65098039]\n",
      "   [0.25098039 0.45490196 0.63529412]\n",
      "   [0.30196078 0.47843137 0.67843137]]]\n",
      "\n",
      "\n",
      " [[[0.5254902  0.5254902  0.4627451 ]\n",
      "   [0.50588235 0.50588235 0.44313725]\n",
      "   [0.51764706 0.51764706 0.45490196]\n",
      "   ...\n",
      "   [0.51372549 0.51372549 0.4627451 ]\n",
      "   [0.52941176 0.5254902  0.47058824]\n",
      "   [0.55294118 0.54901961 0.49411765]]\n",
      "\n",
      "  [[0.49803922 0.49803922 0.43529412]\n",
      "   [0.50588235 0.50588235 0.44313725]\n",
      "   [0.48627451 0.48627451 0.42352941]\n",
      "   ...\n",
      "   [0.56078431 0.56078431 0.50588235]\n",
      "   [0.56078431 0.55686275 0.50196078]\n",
      "   [0.56078431 0.55686275 0.50196078]]\n",
      "\n",
      "  [[0.51764706 0.51764706 0.45490196]\n",
      "   [0.49411765 0.49411765 0.43137255]\n",
      "   [0.4627451  0.4627451  0.4       ]\n",
      "   ...\n",
      "   [0.5372549  0.5372549  0.48235294]\n",
      "   [0.54509804 0.54117647 0.48627451]\n",
      "   [0.55686275 0.54901961 0.49411765]]\n",
      "\n",
      "  ...\n",
      "\n",
      "  [[0.55686275 0.55686275 0.49411765]\n",
      "   [0.51764706 0.51764706 0.45490196]\n",
      "   [0.49803922 0.49803922 0.43921569]\n",
      "   ...\n",
      "   [0.46666667 0.47058824 0.40784314]\n",
      "   [0.57254902 0.56862745 0.51764706]\n",
      "   [0.58039216 0.57254902 0.52941176]]\n",
      "\n",
      "  [[0.51764706 0.51764706 0.45490196]\n",
      "   [0.52941176 0.52941176 0.46666667]\n",
      "   [0.5254902  0.5254902  0.4627451 ]\n",
      "   ...\n",
      "   [0.47843137 0.48235294 0.41960784]\n",
      "   [0.55294118 0.54901961 0.49411765]\n",
      "   [0.54509804 0.54117647 0.48235294]]\n",
      "\n",
      "  [[0.54117647 0.54117647 0.47843137]\n",
      "   [0.49411765 0.49411765 0.43137255]\n",
      "   [0.50980392 0.50588235 0.45098039]\n",
      "   ...\n",
      "   [0.47058824 0.47058824 0.40784314]\n",
      "   [0.52941176 0.5254902  0.47058824]\n",
      "   [0.5372549  0.53333333 0.47843137]]]\n",
      "\n",
      "\n",
      " [[[0.09411765 0.09411765 0.09411765]\n",
      "   [0.09411765 0.09411765 0.09411765]\n",
      "   [0.09411765 0.09411765 0.09411765]\n",
      "   ...\n",
      "   [0.09411765 0.09411765 0.09411765]\n",
      "   [0.09411765 0.09411765 0.09411765]\n",
      "   [0.09411765 0.09411765 0.09411765]]\n",
      "\n",
      "  [[0.09411765 0.09411765 0.09411765]\n",
      "   [0.09411765 0.09411765 0.09411765]\n",
      "   [0.09411765 0.09411765 0.09411765]\n",
      "   ...\n",
      "   [0.09411765 0.09411765 0.09411765]\n",
      "   [0.09411765 0.09411765 0.09411765]\n",
      "   [0.09411765 0.09411765 0.09411765]]\n",
      "\n",
      "  [[0.09411765 0.09411765 0.09411765]\n",
      "   [0.09411765 0.09411765 0.09411765]\n",
      "   [0.09411765 0.09411765 0.09411765]\n",
      "   ...\n",
      "   [0.09411765 0.09411765 0.09411765]\n",
      "   [0.09411765 0.09411765 0.09411765]\n",
      "   [0.09411765 0.09411765 0.09411765]]\n",
      "\n",
      "  ...\n",
      "\n",
      "  [[0.15686275 0.13333333 0.11372549]\n",
      "   [0.1254902  0.10980392 0.09411765]\n",
      "   [0.13333333 0.11372549 0.09803922]\n",
      "   ...\n",
      "   [0.10588235 0.09803922 0.09803922]\n",
      "   [0.11372549 0.09411765 0.09803922]\n",
      "   [0.1254902  0.10588235 0.10980392]]\n",
      "\n",
      "  [[0.18039216 0.15686275 0.1372549 ]\n",
      "   [0.18431373 0.14901961 0.13333333]\n",
      "   [0.16862745 0.14901961 0.13333333]\n",
      "   ...\n",
      "   [0.11764706 0.09803922 0.10196078]\n",
      "   [0.08627451 0.09019608 0.09411765]\n",
      "   [0.10980392 0.10196078 0.10196078]]\n",
      "\n",
      "  [[0.14117647 0.1254902  0.12156863]\n",
      "   [0.18823529 0.16862745 0.14901961]\n",
      "   [0.15294118 0.1372549  0.11764706]\n",
      "   ...\n",
      "   [0.11764706 0.10588235 0.10196078]\n",
      "   [0.12941176 0.10588235 0.09411765]\n",
      "   [0.11372549 0.10196078 0.10588235]]]\n",
      "\n",
      "\n",
      " ...\n",
      "\n",
      "\n",
      " [[[0.18823529 0.18823529 0.18823529]\n",
      "   [0.19607843 0.19607843 0.19607843]\n",
      "   [0.19607843 0.19607843 0.19607843]\n",
      "   ...\n",
      "   [0.61960784 0.63137255 0.6627451 ]\n",
      "   [0.7372549  0.76078431 0.81176471]\n",
      "   [0.79215686 0.80784314 0.85098039]]\n",
      "\n",
      "  [[0.2        0.2        0.2       ]\n",
      "   [0.19215686 0.19215686 0.19215686]\n",
      "   [0.2        0.2        0.2       ]\n",
      "   ...\n",
      "   [0.65882353 0.67058824 0.69803922]\n",
      "   [0.74117647 0.75686275 0.80784314]\n",
      "   [0.78823529 0.80392157 0.84705882]]\n",
      "\n",
      "  [[0.2        0.2        0.2       ]\n",
      "   [0.20392157 0.20392157 0.20392157]\n",
      "   [0.21568627 0.21568627 0.21568627]\n",
      "   ...\n",
      "   [0.61960784 0.61568627 0.62352941]\n",
      "   [0.69019608 0.69411765 0.70980392]\n",
      "   [0.73333333 0.74509804 0.76078431]]\n",
      "\n",
      "  ...\n",
      "\n",
      "  [[0.8627451  0.85490196 0.85098039]\n",
      "   [0.87843137 0.8745098  0.85882353]\n",
      "   [0.88627451 0.88235294 0.86666667]\n",
      "   ...\n",
      "   [0.42352941 0.43137255 0.38431373]\n",
      "   [0.43921569 0.44705882 0.4       ]\n",
      "   [0.42745098 0.43529412 0.38823529]]\n",
      "\n",
      "  [[0.85490196 0.84705882 0.84313725]\n",
      "   [0.8745098  0.87058824 0.85490196]\n",
      "   [0.88235294 0.87843137 0.8627451 ]\n",
      "   ...\n",
      "   [0.37254902 0.37254902 0.3254902 ]\n",
      "   [0.39215686 0.38823529 0.34901961]\n",
      "   [0.41568627 0.41960784 0.38039216]]\n",
      "\n",
      "  [[0.84705882 0.83921569 0.83529412]\n",
      "   [0.87058824 0.86666667 0.85098039]\n",
      "   [0.87843137 0.87843137 0.85490196]\n",
      "   ...\n",
      "   [0.35294118 0.35294118 0.31372549]\n",
      "   [0.37254902 0.36862745 0.32941176]\n",
      "   [0.36470588 0.36862745 0.32941176]]]\n",
      "\n",
      "\n",
      " [[[0.92156863 0.82352941 0.74509804]\n",
      "   [0.91764706 0.81960784 0.74117647]\n",
      "   [0.91764706 0.81960784 0.74117647]\n",
      "   ...\n",
      "   [0.8745098  0.83921569 0.8       ]\n",
      "   [0.8745098  0.83921569 0.8       ]\n",
      "   [0.8745098  0.83921569 0.8       ]]\n",
      "\n",
      "  [[0.91764706 0.81960784 0.74117647]\n",
      "   [0.91764706 0.81960784 0.74117647]\n",
      "   [0.91764706 0.81960784 0.74117647]\n",
      "   ...\n",
      "   [0.86666667 0.83137255 0.79215686]\n",
      "   [0.86666667 0.83137255 0.79215686]\n",
      "   [0.86666667 0.83137255 0.79215686]]\n",
      "\n",
      "  [[0.91372549 0.81960784 0.74117647]\n",
      "   [0.91764706 0.81960784 0.74117647]\n",
      "   [0.91764706 0.81960784 0.74117647]\n",
      "   ...\n",
      "   [0.8627451  0.82745098 0.78823529]\n",
      "   [0.8627451  0.82745098 0.78823529]\n",
      "   [0.8627451  0.82745098 0.78823529]]\n",
      "\n",
      "  ...\n",
      "\n",
      "  [[0.55294118 0.41960784 0.34117647]\n",
      "   [0.80784314 0.64313725 0.55294118]\n",
      "   [0.77254902 0.60392157 0.52156863]\n",
      "   ...\n",
      "   [0.91372549 0.90588235 0.80784314]\n",
      "   [0.94901961 0.94509804 0.84705882]\n",
      "   [0.98431373 0.97254902 0.89803922]]\n",
      "\n",
      "  [[0.69019608 0.52941176 0.45882353]\n",
      "   [0.82352941 0.64313725 0.58431373]\n",
      "   [0.50588235 0.3372549  0.27843137]\n",
      "   ...\n",
      "   [0.88627451 0.87843137 0.76470588]\n",
      "   [0.94117647 0.92156863 0.81960784]\n",
      "   [0.98039216 0.96078431 0.87058824]]\n",
      "\n",
      "  [[0.87058824 0.70588235 0.64705882]\n",
      "   [0.65490196 0.4745098  0.42745098]\n",
      "   [0.41960784 0.24705882 0.19607843]\n",
      "   ...\n",
      "   [0.84705882 0.84313725 0.76862745]\n",
      "   [0.91372549 0.89019608 0.81960784]\n",
      "   [0.98039216 0.94509804 0.86666667]]]\n",
      "\n",
      "\n",
      " [[[0.60784314 0.65882353 0.69019608]\n",
      "   [0.61960784 0.66666667 0.70588235]\n",
      "   [0.6        0.65490196 0.69411765]\n",
      "   ...\n",
      "   [0.65882353 0.72156863 0.74901961]\n",
      "   [0.6627451  0.7254902  0.75686275]\n",
      "   [0.65882353 0.72156863 0.75294118]]\n",
      "\n",
      "  [[0.61960784 0.67058824 0.70196078]\n",
      "   [0.61568627 0.6627451  0.70196078]\n",
      "   [0.61960784 0.67843137 0.71372549]\n",
      "   ...\n",
      "   [0.66666667 0.72941176 0.75686275]\n",
      "   [0.65882353 0.72156863 0.74901961]\n",
      "   [0.6627451  0.7254902  0.75294118]]\n",
      "\n",
      "  [[0.62745098 0.67843137 0.70980392]\n",
      "   [0.63137255 0.68235294 0.71372549]\n",
      "   [0.61176471 0.67058824 0.70588235]\n",
      "   ...\n",
      "   [0.6627451  0.7254902  0.75294118]\n",
      "   [0.65882353 0.72156863 0.74901961]\n",
      "   [0.6627451  0.7254902  0.75294118]]\n",
      "\n",
      "  ...\n",
      "\n",
      "  [[0.48235294 0.48627451 0.50588235]\n",
      "   [0.49019608 0.49411765 0.51372549]\n",
      "   [0.40392157 0.4        0.40784314]\n",
      "   ...\n",
      "   [0.67843137 0.69803922 0.70196078]\n",
      "   [0.65882353 0.6745098  0.67843137]\n",
      "   [0.66666667 0.68235294 0.69019608]]\n",
      "\n",
      "  [[0.3254902  0.33333333 0.3372549 ]\n",
      "   [0.41176471 0.42745098 0.43137255]\n",
      "   [0.44705882 0.45490196 0.45882353]\n",
      "   ...\n",
      "   [0.65882353 0.67843137 0.68235294]\n",
      "   [0.6627451  0.68235294 0.68627451]\n",
      "   [0.65882353 0.67843137 0.68235294]]\n",
      "\n",
      "  [[0.11764706 0.12941176 0.1254902 ]\n",
      "   [0.36862745 0.37647059 0.37647059]\n",
      "   [0.47843137 0.49019608 0.49019608]\n",
      "   ...\n",
      "   [0.65882353 0.67843137 0.68235294]\n",
      "   [0.65490196 0.6745098  0.67843137]\n",
      "   [0.65882353 0.67843137 0.68235294]]]]\n",
      "[1 1 1 1 1 1 1 1 1 1 1 1 1 1 1 1 1 1 1 1 1 1 1 1 1 1 1 1 1 1 1 1 1 1 1 1 1\n",
      " 1 1 1 1 1 1 1 1 1 1 1 1 1 1 1 1 1 1 1 1 1 1 1 1 1 1 1 1 1 1 1 1 1 1 1 1 1\n",
      " 1 1 1 1 1 1 1 1 1 1 1 1 1 1 1 1 1 1 1 1 1 1 1 1 1 1 0 0 0 0 0 0 0 0 0 0 0\n",
      " 0 0 0 0 0 0 0 0 0 0 0 0 0 0 0 0 0 0 0 0 0 0 0 0 0 0 0 0 0 0 0 0 0 0 0 0 0\n",
      " 0 0 0 0 0 0 0 0 0 0 0 0 0 0 0 0 0 0 0 0 0 0 0 0 0 0 0 0 0 0 0 0 0 0 0 0 0\n",
      " 0 0 0 0 0 0 0 0 0 0 0 0 0 0 0]\n",
      "(200, 128, 128, 3)\n"
     ]
    }
   ],
   "source": [
    "#divide by 255 to squish values to 0 - 1 normalization\n",
    "X_test = X_test/255.0\n",
    "Y_test=np.array(Y_test)\n",
    "print(X_test)\n",
    "print(Y_test)\n",
    "print(X_test.shape)"
   ]
  },
  {
   "cell_type": "code",
   "execution_count": null,
   "metadata": {
    "colab": {
     "base_uri": "https://localhost:8080/"
    },
    "id": "ToHezaFy43yZ",
    "outputId": "4900f5b8-29fb-4feb-937e-dc7ca36038d9"
   },
   "outputs": [
    {
     "name": "stdout",
     "output_type": "stream",
     "text": [
      "(128, 128, 3)\n",
      "(1841, 128, 128, 3)\n"
     ]
    }
   ],
   "source": [
    "print(X_train.shape[1:])\n",
    "print(X_train.shape[:])"
   ]
  },
  {
   "cell_type": "code",
   "execution_count": null,
   "metadata": {
    "colab": {
     "base_uri": "https://localhost:8080/",
     "height": 285
    },
    "id": "5UHgG-V75eUj",
    "outputId": "ce50c781-0c0a-40d9-ba64-4d4bbde87480"
   },
   "outputs": [
    {
     "data": {
      "image/png": "[encoded data removed]",
      "text/plain": [
       "<Figure size 432x288 with 1 Axes>"
      ]
     },
     "metadata": {
      "needs_background": "light"
     },
     "output_type": "display_data"
    },
    {
     "name": "stdout",
     "output_type": "stream",
     "text": [
      "(128, 128, 3)\n"
     ]
    }
   ],
   "source": [
    "df=pd.DataFrame(Y_train)\n",
    "df[0].value_counts()\n",
    "plt.imshow(X_train[1])\n",
    "plt.show()\n",
    "print(X_train[1].shape)"
   ]
  },
  {
   "cell_type": "code",
   "execution_count": null,
   "metadata": {
    "colab": {
     "base_uri": "https://localhost:8080/"
    },
    "id": "df9Mixqi5ghq",
    "outputId": "344dae84-bbf1-402a-e15d-6a40f3172dee"
   },
   "outputs": [
    {
     "name": "stdout",
     "output_type": "stream",
     "text": [
      "(200, 1)\n",
      "(1841, 1)\n"
     ]
    }
   ],
   "source": [
    "lb = LabelBinarizer()\n",
    "Y_train = lb.fit_transform(Y_train)\n",
    "Y_test = lb.transform(Y_test)\n",
    "print(Y_test.shape)\n",
    "print(Y_train.shape)"
   ]
  },
  {
   "cell_type": "markdown",
   "metadata": {
    "id": "0ZyzxT_H3GXw"
   },
   "source": [
    "## Define the model"
   ]
  },
  {
   "cell_type": "code",
   "execution_count": null,
   "metadata": {
    "colab": {
     "base_uri": "https://localhost:8080/"
    },
    "id": "W-CUuQ_r5jnQ",
    "outputId": "69add50e-f996-4b20-8cba-55eafbce8da0"
   },
   "outputs": [
    {
     "name": "stdout",
     "output_type": "stream",
     "text": [
      "Model: \"sequential\"\n",
      "_________________________________________________________________\n",
      " Layer (type)                Output Shape              Param #   \n",
      "=================================================================\n",
      " dense (Dense)               (None, 128, 128, 128)     512       \n",
      "                                                                 \n",
      " flatten (Flatten)           (None, 2097152)           0         \n",
      "                                                                 \n",
      " batch_normalization (BatchN  (None, 2097152)          8388608   \n",
      " ormalization)                                                   \n",
      "                                                                 \n",
      " dropout (Dropout)           (None, 2097152)           0         \n",
      "                                                                 \n",
      " dense_1 (Dense)             (None, 64)                134217792 \n",
      "                                                                 \n",
      " batch_normalization_1 (Batc  (None, 64)               256       \n",
      " hNormalization)                                                 \n",
      "                                                                 \n",
      " dropout_1 (Dropout)         (None, 64)                0         \n",
      "                                                                 \n",
      " dense_2 (Dense)             (None, 32)                2080      \n",
      "                                                                 \n",
      " dropout_2 (Dropout)         (None, 32)                0         \n",
      "                                                                 \n",
      " dense_3 (Dense)             (None, 1)                 33        \n",
      "                                                                 \n",
      "=================================================================\n",
      "Total params: 142,609,281\n",
      "Trainable params: 138,414,849\n",
      "Non-trainable params: 4,194,432\n",
      "_________________________________________________________________\n"
     ]
    }
   ],
   "source": [
    "lsize = 128\n",
    "model = Sequential()\n",
    "model.add(Dense(lsize, input_shape=(128,128,3),activation='relu')) \n",
    "model.add(Flatten())\n",
    "model.add(BatchNormalization())\n",
    "model.add(Dropout(rate=0.05))\n",
    "model.add(Dense(int(lsize/2), activation='relu'))\n",
    "model.add(BatchNormalization())\n",
    "model.add(Dropout(rate=0.05))\n",
    "model.add(Dense(int(lsize/4),kernel_regularizer=regularizers.l2(0.1), activation='relu'))\n",
    "model.add(Dropout(rate=0.1))\n",
    "model.add(Dense(1, activation='sigmoid'))\n",
    "\n",
    "# Compile model\n",
    "model.compile(loss='binary_crossentropy', optimizer='adadelta', metrics=['accuracy'])\n",
    "model.summary()"
   ]
  },
  {
   "cell_type": "markdown",
   "metadata": {
    "id": "F3YMWHb43LoX"
   },
   "source": [
    "## Train the model"
   ]
  },
  {
   "cell_type": "code",
   "execution_count": null,
   "metadata": {
    "colab": {
     "base_uri": "https://localhost:8080/"
    },
    "id": "q45M3gmF5sHW",
    "outputId": "b043b324-ac7c-418e-b306-8f9e16c7138b"
   },
   "outputs": [
    {
     "name": "stdout",
     "output_type": "stream",
     "text": [
      "(1841, 128, 128, 3)\n",
      "(1841, 1)\n",
      "Epoch 1/15\n",
      "23/23 [==============================] - 134s 6s/step - loss: 5.0679 - accuracy: 0.5238 - val_loss: 4.9833 - val_accuracy: 0.5583\n",
      "Epoch 2/15\n",
      "23/23 [==============================] - 132s 6s/step - loss: 4.9060 - accuracy: 0.6644 - val_loss: 4.9792 - val_accuracy: 0.5718\n",
      "Epoch 3/15\n",
      "23/23 [==============================] - 133s 6s/step - loss: 4.8379 - accuracy: 0.7235 - val_loss: 4.9765 - val_accuracy: 0.5447\n",
      "Epoch 4/15\n",
      "23/23 [==============================] - 131s 6s/step - loss: 4.7895 - accuracy: 0.7561 - val_loss: 4.9712 - val_accuracy: 0.5583\n",
      "Epoch 5/15\n",
      "23/23 [==============================] - 132s 6s/step - loss: 4.7398 - accuracy: 0.7853 - val_loss: 4.9696 - val_accuracy: 0.5583\n",
      "Epoch 6/15\n",
      "23/23 [==============================] - 132s 6s/step - loss: 4.7072 - accuracy: 0.8125 - val_loss: 4.9644 - val_accuracy: 0.5691\n",
      "Epoch 7/15\n",
      "23/23 [==============================] - 135s 6s/step - loss: 4.6640 - accuracy: 0.8594 - val_loss: 4.9644 - val_accuracy: 0.5664\n",
      "Epoch 8/15\n",
      "23/23 [==============================] - 132s 6s/step - loss: 4.6520 - accuracy: 0.8560 - val_loss: 4.9588 - val_accuracy: 0.5772\n",
      "Epoch 9/15\n",
      "23/23 [==============================] - 132s 6s/step - loss: 4.6129 - accuracy: 0.8886 - val_loss: 4.9536 - val_accuracy: 0.5772\n",
      "Epoch 10/15\n",
      "23/23 [==============================] - 131s 6s/step - loss: 4.5954 - accuracy: 0.8967 - val_loss: 4.9557 - val_accuracy: 0.5989\n",
      "Epoch 11/15\n",
      "23/23 [==============================] - 132s 6s/step - loss: 4.5697 - accuracy: 0.9137 - val_loss: 4.9483 - val_accuracy: 0.5827\n",
      "Epoch 12/15\n",
      "23/23 [==============================] - 153s 7s/step - loss: 4.5426 - accuracy: 0.9300 - val_loss: 4.9447 - val_accuracy: 0.5799\n",
      "Epoch 13/15\n",
      "23/23 [==============================] - 156s 7s/step - loss: 4.5372 - accuracy: 0.9280 - val_loss: 4.9416 - val_accuracy: 0.5772\n",
      "Epoch 14/15\n",
      "23/23 [==============================] - 161s 7s/step - loss: 4.5130 - accuracy: 0.9436 - val_loss: 4.9449 - val_accuracy: 0.5908\n",
      "Epoch 15/15\n",
      "23/23 [==============================] - 161s 7s/step - loss: 4.4874 - accuracy: 0.9558 - val_loss: 4.9302 - val_accuracy: 0.5989\n"
     ]
    }
   ],
   "source": [
    "# Fit the model\n",
    "print(X_train.shape)\n",
    "print(Y_train.shape)\n",
    "history = model.fit(X_train, Y_train, epochs=15, batch_size=64,#512, \n",
    "                    validation_split=0.2, verbose=1)"
   ]
  },
  {
   "cell_type": "markdown",
   "metadata": {
    "id": "4in8H9bS3P4G"
   },
   "source": [
    "## Evaluating the model"
   ]
  },
  {
   "cell_type": "code",
   "execution_count": null,
   "metadata": {
    "colab": {
     "base_uri": "https://localhost:8080/"
    },
    "id": "7rznC5ER51Qq",
    "outputId": "0c56b3ef-434a-4b58-a259-41495959ba0b"
   },
   "outputs": [
    {
     "name": "stdout",
     "output_type": "stream",
     "text": [
      "[INFO] evaluating network...\n",
      "Test loss: 4.954660892486572\n",
      "Test accuracy: 0.6000000238418579\n"
     ]
    }
   ],
   "source": [
    "print(\"[INFO] evaluating network...\")\n",
    "score = model.evaluate(X_test, Y_test, verbose = 0) \n",
    "\n",
    "print('Test loss:', score[0]) \n",
    "print('Test accuracy:', score[1])"
   ]
  },
  {
   "cell_type": "code",
   "execution_count": null,
   "metadata": {
    "colab": {
     "base_uri": "https://localhost:8080/",
     "height": 295
    },
    "id": "vnAFZcVc54rs",
    "outputId": "7ea47473-c19b-425b-a871-d59d19773009"
   },
   "outputs": [
    {
     "data": {
      "image/png": "[encoded data removed]",
      "text/plain": [
       "<Figure size 432x288 with 1 Axes>"
      ]
     },
     "metadata": {
      "needs_background": "light"
     },
     "output_type": "display_data"
    }
   ],
   "source": [
    "plt.plot(history.history['accuracy'])\n",
    "plt.plot(history.history['val_accuracy'])\n",
    "plt.title('model accuracy')\n",
    "plt.ylabel('accuracy')\n",
    "plt.xlabel('epoch')\n",
    "plt.legend(['train acc', 'val acc'], loc='upper left')\n",
    "plt.show()"
   ]
  },
  {
   "cell_type": "code",
   "execution_count": null,
   "metadata": {
    "colab": {
     "base_uri": "https://localhost:8080/"
    },
    "id": "33Z5vHys57mu",
    "outputId": "e2252e7a-89ef-4bb6-f253-8b05ddd3071a"
   },
   "outputs": [
    {
     "name": "stdout",
     "output_type": "stream",
     "text": [
      "7/7 [==============================] - 3s 358ms/step - loss: 4.9547 - accuracy: 0.6000\n"
     ]
    },
    {
     "data": {
      "text/plain": [
       "[4.954660892486572, 0.6000000238418579]"
      ]
     },
     "execution_count": 27,
     "metadata": {},
     "output_type": "execute_result"
    }
   ],
   "source": [
    "model.evaluate(X_test,Y_test)"
   ]
  },
  {
   "cell_type": "code",
   "execution_count": null,
   "metadata": {
    "colab": {
     "base_uri": "https://localhost:8080/"
    },
    "id": "M0Ti4mu_58es",
    "outputId": "be55c011-b12a-4e0f-f703-b9a2b6d80960"
   },
   "outputs": [
    {
     "name": "stdout",
     "output_type": "stream",
     "text": [
      "INFO:tensorflow:Assets written to: module/assets\n"
     ]
    }
   ],
   "source": [
    " model.save(\"module\")"
   ]
  }
 ],
 "metadata": {
  "accelerator": "GPU",
  "colab": {
   "collapsed_sections": [],
   "name": "CopDLearning.ipynb",
   "provenance": []
  },
  "kernelspec": {
   "display_name": "Python 3",
   "language": "python",
   "name": "python3"
  },
  "language_info": {
   "codemirror_mode": {
    "name": "ipython",
    "version": 3
   },
   "file_extension": ".py",
   "mimetype": "text/x-python",
   "name": "python",
   "nbconvert_exporter": "python",
   "pygments_lexer": "ipython3",
   "version": "3.8.3"
  }
 },
 "nbformat": 4,
 "nbformat_minor": 1
}
